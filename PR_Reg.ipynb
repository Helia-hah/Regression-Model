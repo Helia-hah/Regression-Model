{
  "nbformat": 4,
  "nbformat_minor": 0,
  "metadata": {
    "colab": {
      "provenance": []
    },
    "kernelspec": {
      "name": "python3",
      "display_name": "Python 3"
    },
    "language_info": {
      "name": "python"
    }
  },
  "cells": [
    {
      "cell_type": "markdown",
      "source": [
        "**Get Data**"
      ],
      "metadata": {
        "id": "fO_6fKBnczFL"
      }
    },
    {
      "cell_type": "code",
      "source": [
        "import numpy\n",
        "import math\n",
        "\n",
        "def getData(N,std):\n",
        "\n",
        "  x = numpy.random.uniform(0.0, 1.0, N)\n",
        "  z = numpy.random.normal(0.0, std, N)\n",
        "\n",
        "  y = numpy.cos(2*math.pi*x) + z\n",
        "\n",
        "  return (x,y)\n"
      ],
      "metadata": {
        "id": "KI7b0Y79c0eS"
      },
      "execution_count": 168,
      "outputs": []
    },
    {
      "cell_type": "markdown",
      "source": [
        "**Polynomial Regression**"
      ],
      "metadata": {
        "id": "6zRp3wDLc6gL"
      }
    },
    {
      "cell_type": "code",
      "source": [
        "import numpy as np\n",
        "\n",
        "def PolyReg(x,d,N):\n",
        "\n",
        "   x=x.reshape(N,1)\n",
        "   t=numpy.ones((N,1))\n",
        "  \n",
        "   # Appending columns to X for higher degrees .\n",
        "   for i in range (1,d+1):\n",
        "       t= np.append(t, x**i, axis=1)\n",
        "   x=np.copy(t)\n",
        "\n",
        "   return(x)"
      ],
      "metadata": {
        "id": "aZc44KgDc6qD"
      },
      "execution_count": 169,
      "outputs": []
    },
    {
      "cell_type": "markdown",
      "source": [
        "**MSE**"
      ],
      "metadata": {
        "id": "m11LEuuhc6zk"
      }
    },
    {
      "cell_type": "code",
      "source": [
        "import torch\n",
        "\n",
        "def getMSE(y,yhat):\n",
        "\n",
        "    loss = torch.mean(torch.pow(yhat-y,2))\n",
        "\n",
        "    return(loss)"
      ],
      "metadata": {
        "id": "fJ-a8wQUc67k"
      },
      "execution_count": 170,
      "outputs": []
    },
    {
      "cell_type": "markdown",
      "source": [
        "**GD**"
      ],
      "metadata": {
        "id": "XPPoL0Xuc7Dj"
      }
    },
    {
      "cell_type": "code",
      "source": [
        "import torch\n",
        "def GD(x_t,y_t,Teta,N):\n",
        "\n",
        "  learning_rate = 0.01\n",
        "  Teta_t = torch.tensor(Teta,requires_grad=True)\n",
        "\n",
        "  for i in range (1000):\n",
        "\n",
        "      Teta_t = torch.tensor(Teta_t,requires_grad=True)\n",
        "\n",
        "      yhat_t =  torch.matmul(x_t,Teta_t)\n",
        "\n",
        "      loss = getMSE(y_t,yhat_t) \n",
        "      #print(\"loss\", loss)\n",
        "\n",
        "      loss.backward()\n",
        "      derivative = Teta_t.grad\n",
        "\n",
        "      weight_decay=0.1\n",
        "      regularization = torch.mul(Teta_t , 2*learning_rate*weight_decay)\n",
        "\n",
        "      Teta_n = Teta_t - regularization- torch.mul(derivative , learning_rate)\n",
        "      Teta_t = Teta_n\n",
        "    \n",
        "    \n",
        "  return(Teta_t)\n",
        "\n"
      ],
      "metadata": {
        "id": "xq1NOMyFc7Kl"
      },
      "execution_count": 171,
      "outputs": []
    },
    {
      "cell_type": "markdown",
      "source": [
        "**SGD**"
      ],
      "metadata": {
        "id": "zJitzcqDdWC-"
      }
    },
    {
      "cell_type": "code",
      "source": [
        "import random\n",
        "def SGD(x_t,y_t,Teta,N):\n",
        "\n",
        "  learning_rate = 0.01\n",
        "\n",
        "  for i in range (1000):\n",
        "      Teta_t = torch.tensor(Teta,requires_grad=True)\n",
        "\n",
        "      random_index = random.randint(0,N-1)\n",
        "\n",
        "      X = x_t[random_index]\n",
        "      X = X.reshape(1,len(X))\n",
        "      Y = y_t[random_index]\n",
        "\n",
        "      Y_SGD =  torch.matmul(X,Teta_t)\n",
        "\n",
        "      each = torch.mul(X.T,Y-Y_SGD)\n",
        "\n",
        "      weight_decay=0.1\n",
        "      regularization = torch.mul(Teta_t , 2*learning_rate*weight_decay)\n",
        "\n",
        "      update = learning_rate*2\n",
        "      Teta_n = Teta_t + regularization + torch.mul(each , update)\n",
        "      Teta_t = Teta_n\n",
        "  \n",
        "    \n",
        "  return(Teta_t)"
      ],
      "metadata": {
        "id": "W103zgP3dWMp"
      },
      "execution_count": 161,
      "outputs": []
    },
    {
      "cell_type": "markdown",
      "source": [
        "**Mini-batched SGD**"
      ],
      "metadata": {
        "id": "bjPvf67QdWTL"
      }
    },
    {
      "cell_type": "code",
      "source": [
        "import random\n",
        "import torch\n",
        "\n",
        "def Mini_BSGD(x_t,y_t,Teta,N):\n",
        "\n",
        "  learning_rate = 0.1\n",
        "  Teta_t = torch.tensor(Teta,requires_grad=True)\n",
        "\n",
        "  for i in range (100):\n",
        "\n",
        "      Teta_t = torch.tensor(Teta_t,requires_grad=True)\n",
        "\n",
        "      #size of mini_batch = 20\n",
        "      batch=20\n",
        "      if (N<=batch):\n",
        "        X = x_t\n",
        "        Y = y_t\n",
        "        Y = Y.reshape(N,1)\n",
        "        batch = N\n",
        "      else:\n",
        "        \n",
        "        random_index = random.randint(0,N-1-batch)\n",
        "        X = x_t[random_index:random_index+batch]\n",
        "        Y = y_t[random_index:random_index+batch]\n",
        "\n",
        "\n",
        "      Y_SGD =  torch.matmul(X,Teta_t)\n",
        "\n",
        "\n",
        "      error = Y - Y_SGD \n",
        "      error = torch.tensor(error)\n",
        "\n",
        "      each = torch.matmul(error.T,X)\n",
        "      each = torch.tensor(each)\n",
        "\n",
        "      weight_decay=0.1\n",
        "      regularization = torch.mul(Teta_t , 2*learning_rate*weight_decay)\n",
        "      \n",
        "      update = (learning_rate*2)/batch\n",
        "      Teta_n = Teta_t + regularization + torch.mul(each.T, update)\n",
        "      Teta_t = Teta_n\n",
        "\n",
        "\n",
        "    \n",
        "  return(Teta_t)"
      ],
      "metadata": {
        "id": "DX-7tHbWdWZU"
      },
      "execution_count": 145,
      "outputs": []
    },
    {
      "cell_type": "markdown",
      "source": [
        "**Fit Data**"
      ],
      "metadata": {
        "id": "vYX9p0uYdWh7"
      }
    },
    {
      "cell_type": "code",
      "source": [
        "import torch\n",
        "import numpy as np\n",
        "def fitData(x,y,d,N,std):\n",
        "\n",
        "  #Polynomial Regression  \n",
        "  x = PolyReg(x,d,N)\n",
        "  x_t = torch.tensor(x,requires_grad=True)\n",
        "\n",
        "  y_t = torch.tensor(y,requires_grad=True)\n",
        "  y_t = y_t.reshape(N,1)\n",
        "\n",
        "\n",
        "  Teta = np.random.rand(d+1,1)\n",
        "  Teta_t = torch.tensor(Teta,requires_grad=True)\n",
        "\n",
        "\n",
        "\n",
        "  ##################################### Choosing the estimator\n",
        "  Teta_t = GD(x_t,y_t,Teta_t,N)\n",
        "  #Teta_t = SGD(x_t,y_t,Teta_t,N)\n",
        "  #Teta_t = Mini_BSGD(x_t,y_t,Teta_t,N)\n",
        "\n",
        "\n",
        "\n",
        "  #E_in\n",
        "  yhat = torch.matmul(x_t,Teta_t)\n",
        "  E_in = getMSE(y_t,yhat)\n",
        " \n",
        "\n",
        "  #E_out\n",
        "  xT , yT = getData(1000,std)\n",
        "\n",
        "  xT = PolyReg(xT,d,1000)\n",
        "  xT = torch.tensor(xT,requires_grad=True)\n",
        "  yT = torch.tensor(yT,requires_grad=True)\n",
        "\n",
        "  yhat = torch.matmul(xT,Teta_t)\n",
        "  \n",
        "  E_out = getMSE(yT,yhat)\n",
        " \n",
        "\n",
        "\n",
        "  return(Teta_t,E_in,E_out)\n"
      ],
      "metadata": {
        "id": "ihxcN37ldWpS"
      },
      "execution_count": 172,
      "outputs": []
    },
    {
      "cell_type": "markdown",
      "source": [
        "**Experiment**"
      ],
      "metadata": {
        "id": "TJctBKSZdmG1"
      }
    },
    {
      "cell_type": "code",
      "source": [
        "import numpy as np\n",
        "def experiment(N,d,std):\n",
        "\n",
        "  \n",
        "  Teta=torch.zeros((d+1,1))\n",
        "  Elist_in=[]\n",
        "  Elist_out=[]\n",
        "  \n",
        "\n",
        "  for i in range(50):\n",
        "    \n",
        "\n",
        "    #Generateing Data\n",
        "    x , y =getData(N,std)\n",
        "\n",
        "    #Fitting data\n",
        "    TetaN , E_in , E_out = fitData(x,y,d,N,std)\n",
        "\n",
        "    #Adding to list\n",
        "    Teta= torch.add(Teta,TetaN)\n",
        "    \n",
        "    Elist_in.append(E_in)\n",
        "    Elist_out.append(E_out)\n",
        "    \n",
        "  \n",
        "\n",
        "  #Average\n",
        "\n",
        "  Teta_avg = Teta/50\n",
        "\n",
        "  Elist_in=torch.tensor(Elist_in)\n",
        "  Elist_out=torch.tensor(Elist_out)\n",
        "\n",
        "  Ein_avg = torch.mean(Elist_in)\n",
        "  Eout_avg = torch.mean(Elist_out)\n",
        "\n",
        "\n",
        "  #Generating Test\n",
        "  xTest , yTest = getData(1000,std)\n",
        "\n",
        "  xTest=PolyReg(xTest,d,1000)\n",
        "  xTest = torch.tensor(xTest,requires_grad=True)\n",
        "  yTest = torch.tensor(yTest,requires_grad=True)\n",
        "  y_predict = torch.matmul(xTest,Teta_avg)\n",
        "\n",
        "  E_bias = getMSE(yTest,y_predict)\n",
        "  E_bias = torch.tensor(E_bias)\n",
        "\n",
        "\n",
        "  return(Ein_avg,Eout_avg,E_bias)\n",
        "\n",
        "\n"
      ],
      "metadata": {
        "id": "wLIA1TMedmPk"
      },
      "execution_count": 173,
      "outputs": []
    },
    {
      "cell_type": "markdown",
      "source": [
        "**plot-N**"
      ],
      "metadata": {
        "id": "bUD8T3lDdmWD"
      }
    },
    {
      "cell_type": "code",
      "source": [
        "import matplotlib.pyplot as plt\n",
        "\n",
        "\n",
        "N=[2,5,10,20,50,100,200]\n",
        "\n",
        "\n",
        "results=[[],[],[]]\n",
        "\n",
        "for n in N:\n",
        "    a1,a2,a3 = experiment(n,5,1)\n",
        "    results[0].append(a1)\n",
        "    results[1].append(a2)\n",
        "    results[2].append(a3)\n",
        "\n",
        "\n",
        "plt.plot(N,results[0],color='c',linestyle='dashdot',label='Ein')\n",
        "plt.plot(N,results[1],color='m',linestyle='dashdot',label='Eout')\n",
        "plt.plot(N,results[2],color='b',linestyle='dashdot',label='Ebias')\n",
        "\n",
        "plt.xlabel('N (Dataset Size)')\n",
        "plt.ylabel('MSE')\n",
        "plt.legend()\n",
        "plt.show()"
      ],
      "metadata": {
        "colab": {
          "base_uri": "https://localhost:8080/",
          "height": 389
        },
        "id": "x9J7Viyfdmdr",
        "outputId": "69cab0f6-87ea-43a2-d8e5-f8d2ed5c33c9"
      },
      "execution_count": 176,
      "outputs": [
        {
          "output_type": "stream",
          "name": "stderr",
          "text": [
            "/usr/local/lib/python3.7/dist-packages/ipykernel_launcher.py:5: UserWarning: To copy construct from a tensor, it is recommended to use sourceTensor.clone().detach() or sourceTensor.clone().detach().requires_grad_(True), rather than torch.tensor(sourceTensor).\n",
            "  \"\"\"\n",
            "/usr/local/lib/python3.7/dist-packages/ipykernel_launcher.py:9: UserWarning: To copy construct from a tensor, it is recommended to use sourceTensor.clone().detach() or sourceTensor.clone().detach().requires_grad_(True), rather than torch.tensor(sourceTensor).\n",
            "  if __name__ == '__main__':\n",
            "/usr/local/lib/python3.7/dist-packages/ipykernel_launcher.py:47: UserWarning: To copy construct from a tensor, it is recommended to use sourceTensor.clone().detach() or sourceTensor.clone().detach().requires_grad_(True), rather than torch.tensor(sourceTensor).\n"
          ]
        },
        {
          "output_type": "display_data",
          "data": {
            "text/plain": [
              "<Figure size 432x288 with 1 Axes>"
            ],
            "image/png": "[encoded data removed]"
          },
          "metadata": {
            "needs_background": "light"
          }
        }
      ]
    },
    {
      "cell_type": "markdown",
      "source": [
        "**Plot-SD**"
      ],
      "metadata": {
        "id": "5UcVj7LxSBxe"
      }
    },
    {
      "cell_type": "code",
      "source": [
        "import matplotlib.pyplot as plt\n",
        "\n",
        "\n",
        "sd=[0.01,0.1,1]\n",
        "\n",
        "\n",
        "results=[[],[],[]]\n",
        "\n",
        "for std in sd:\n",
        "    a1,a2,a3 = experiment(30,5,std)\n",
        "    results[0].append(a1)\n",
        "    results[1].append(a2)\n",
        "    results[2].append(a3)\n",
        "\n",
        "plt.plot(sd,results[0],color='c',linestyle='dashdot',label='Ein')\n",
        "plt.plot(sd,results[1],color='m',linestyle='dashdot',label='Eout')\n",
        "plt.plot(sd,results[2],color='b',linestyle='dashdot',label='Ebias')#\n",
        "\n",
        "\n",
        "plt.xlabel('SD (Standard Deviation)')\n",
        "plt.ylabel('MSE')\n",
        "plt.legend()\n",
        "plt.show()"
      ],
      "metadata": {
        "colab": {
          "base_uri": "https://localhost:8080/",
          "height": 391
        },
        "id": "yAHmnZVfD4WD",
        "outputId": "5d390856-a28d-466b-dfdd-4e36836bdf57"
      },
      "execution_count": 177,
      "outputs": [
        {
          "output_type": "stream",
          "name": "stderr",
          "text": [
            "/usr/local/lib/python3.7/dist-packages/ipykernel_launcher.py:5: UserWarning: To copy construct from a tensor, it is recommended to use sourceTensor.clone().detach() or sourceTensor.clone().detach().requires_grad_(True), rather than torch.tensor(sourceTensor).\n",
            "  \"\"\"\n",
            "/usr/local/lib/python3.7/dist-packages/ipykernel_launcher.py:9: UserWarning: To copy construct from a tensor, it is recommended to use sourceTensor.clone().detach() or sourceTensor.clone().detach().requires_grad_(True), rather than torch.tensor(sourceTensor).\n",
            "  if __name__ == '__main__':\n",
            "/usr/local/lib/python3.7/dist-packages/ipykernel_launcher.py:47: UserWarning: To copy construct from a tensor, it is recommended to use sourceTensor.clone().detach() or sourceTensor.clone().detach().requires_grad_(True), rather than torch.tensor(sourceTensor).\n"
          ]
        },
        {
          "output_type": "display_data",
          "data": {
            "text/plain": [
              "<Figure size 432x288 with 1 Axes>"
            ],
            "image/png": "[encoded data removed]"
          },
          "metadata": {
            "needs_background": "light"
          }
        }
      ]
    },
    {
      "cell_type": "markdown",
      "source": [
        "**Plot-d**"
      ],
      "metadata": {
        "id": "3E-lNigRSGoK"
      }
    },
    {
      "cell_type": "code",
      "source": [
        "import matplotlib.pyplot as plt\n",
        "\n",
        "\n",
        "D = [i for i in range(0,21)]\n",
        "\n",
        "\n",
        "results=[[],[],[]]\n",
        "\n",
        "for d in D:\n",
        "    a1,a2,a3 = experiment(30,d,1)\n",
        "    results[0].append(a1)\n",
        "    results[1].append(a2)\n",
        "    results[2].append(a3)\n",
        "\n",
        "\n",
        "plt.plot(D,results[0],color='c',linestyle='dashdot',label='Ein')\n",
        "plt.plot(D,results[1],color='m',linestyle='dashdot',label='Eout')\n",
        "plt.plot(D,results[2],color='b',linestyle='dashdot',label='Ebias')\n",
        "\n",
        "\n",
        "plt.xlabel('d (Polynomial Degree)')\n",
        "plt.ylabel('MSE')\n",
        "plt.legend()\n",
        "plt.show()"
      ],
      "metadata": {
        "colab": {
          "base_uri": "https://localhost:8080/",
          "height": 391
        },
        "id": "cALI2_8fR91Z",
        "outputId": "43b6412d-d703-49ce-c2f3-c91df96c0e99"
      },
      "execution_count": 178,
      "outputs": [
        {
          "output_type": "stream",
          "name": "stderr",
          "text": [
            "/usr/local/lib/python3.7/dist-packages/ipykernel_launcher.py:5: UserWarning: To copy construct from a tensor, it is recommended to use sourceTensor.clone().detach() or sourceTensor.clone().detach().requires_grad_(True), rather than torch.tensor(sourceTensor).\n",
            "  \"\"\"\n",
            "/usr/local/lib/python3.7/dist-packages/ipykernel_launcher.py:9: UserWarning: To copy construct from a tensor, it is recommended to use sourceTensor.clone().detach() or sourceTensor.clone().detach().requires_grad_(True), rather than torch.tensor(sourceTensor).\n",
            "  if __name__ == '__main__':\n",
            "/usr/local/lib/python3.7/dist-packages/ipykernel_launcher.py:47: UserWarning: To copy construct from a tensor, it is recommended to use sourceTensor.clone().detach() or sourceTensor.clone().detach().requires_grad_(True), rather than torch.tensor(sourceTensor).\n"
          ]
        },
        {
          "output_type": "display_data",
          "data": {
            "text/plain": [
              "<Figure size 432x288 with 1 Axes>"
            ],
            "image/png": "[encoded data removed]"
          },
          "metadata": {
            "needs_background": "light"
          }
        }
      ]
    },
    {
      "cell_type": "markdown",
      "source": [
        "**All results**"
      ],
      "metadata": {
        "id": "lxBrM1BDADaY"
      }
    },
    {
      "cell_type": "code",
      "source": [
        "N = [2,5,10,20,50,100,200]\n",
        "D = [i for i in range(0,21)]\n",
        "sd=[0.01,0.1,1]\n",
        "\n",
        "all_results=[[[ [] for x in range(len(N))] for x in range(len(D))]for x in range(len(sd))]\n",
        "\n",
        "for a in  range(len(N)):\n",
        "    for b in range(len(D)):\n",
        "        for c in range(len(sd)):\n",
        "            Ein_avg,Eout_avg,E_bias = experiment(N[a],D[b],sd[c])\n",
        "            all_results[a][b][c].append(Ein_avg)\n",
        "            all_results[a][b][c].append(Eout_avg)\n",
        "            all_results[a][b][c].append(E_bias)"
      ],
      "metadata": {
        "id": "huD3z-LrALF0"
      },
      "execution_count": null,
      "outputs": []
    }
  ]
}